{
 "cells": [
  {
   "cell_type": "markdown",
   "id": "21f27807",
   "metadata": {},
   "source": [
    "### Multi-head Attention Matrices\n",
    "\n",
    "\n",
    "$$ Q\\cdot K^T = X\\,(W_Q \\cdot W_K^T)\\,X^T$$\n",
    "Here we search for a possible mathematical interpretation of the linear transformations involved in the computation of $Q, K, V$ in multi-head attention. Specifically, we want to answer the following questions:\n",
    "\n",
    "\n",
    "In single head attention:\n",
    "\n",
    "- how different is the matrix $W_Q \\cdot W_K^T$ from the identity matrix? If we find a significative difference, it means that the attention is doing something more than $X\\cdot X^T$ - i.e. the projection of the buffer on itself;\n",
    "\n",
    "- is $W_Q \\cdot W_K^T$ symmetric? In that case, the attention weights can be seen as $X' \\cdot X'^T$ where $X' = A\\cdot X$."
   ]
  },
  {
   "cell_type": "markdown",
   "id": "b763e059",
   "metadata": {},
   "source": [
    "**NOTES** Which model should we choose?\n",
    "\n",
    "- GPT2Model: the base transformer, outputs the hidden states(the embedded buffer, X, after all the transformations)\n",
    "- GPT2LMHeadModel: the base transformer, plus the layer which calculates the probabilities (aka the token logits) $p(t_i) \\propto exp(\\vec{x}_N\\cdot \\vec{x}_{t_i})$ for each token $t_i$ in the vocabulary.\n",
    "- GPT2DoubleHeadsModel: has both the layer that calculates the probabilities and a layer for classification (whatever it is). Used for multiple-choice Q&A.\n",
    "\n",
    "\n",
    "We need to use GPT2LMHeadModel.from_pretrained(). This is an instance of the class `transformers.PreTrainedModel` and inherits all its methods. Check its the documentation.\n",
    "\n",
    "\n",
    "Also check `transformers.GenerationMixin.generate()` and its documentation."
   ]
  },
  {
   "cell_type": "code",
   "execution_count": 2,
   "id": "e10a696c",
   "metadata": {},
   "outputs": [
    {
     "name": "stderr",
     "output_type": "stream",
     "text": [
      "/Users/miriamzara/LCP_B_GPT2/my_venv/lib/python3.12/site-packages/tqdm/auto.py:21: TqdmWarning: IProgress not found. Please update jupyter and ipywidgets. See https://ipywidgets.readthedocs.io/en/stable/user_install.html\n",
      "  from .autonotebook import tqdm as notebook_tqdm\n",
      "`torch.nn.functional.scaled_dot_product_attention` does not support `output_attentions=True`. Falling back to eager attention. This warning can be removed using the argument `attn_implementation=\"eager\"` when loading the model.\n"
     ]
    },
    {
     "name": "stdout",
     "output_type": "stream",
     "text": [
      "tensor([[8888,  356,  460,  467,  284]])\n"
     ]
    },
    {
     "data": {
      "text/plain": [
       "transformers.generation.utils.GenerateDecoderOnlyOutput"
      ]
     },
     "execution_count": 2,
     "metadata": {},
     "output_type": "execute_result"
    }
   ],
   "source": [
    "from transformers import GPT2LMHeadModel, GPT2Tokenizer\n",
    "import torch\n",
    "import numpy as np\n",
    "\n",
    "# Load pretrained model\n",
    "model = GPT2LMHeadModel.from_pretrained('gpt2')\n",
    "tokenizer = GPT2Tokenizer.from_pretrained('gpt2')\n",
    "tokenizer.pad_token_id = tokenizer.eos_token_id\n",
    "inputs =  tokenizer([\"Today we can go to\"], return_tensors=\"pt\") # atributes: input_ids, attention_mask\n",
    "print(inputs.input_ids)\n",
    "outputs = model.generate(**inputs, max_new_tokens = 1,\n",
    "                        return_dict_in_generate = True,\n",
    "                        output_scores = True,\n",
    "                        temperature = 1.0,\n",
    "                        output_logits = True,\n",
    "                        output_hidden_states = True,\n",
    "                        output_attentions = True,\n",
    "                        pad_token_id = 50256)\n",
    "\n",
    "type(outputs) # transformers.generation.utils.GenerateDecoderOnlyOutput"
   ]
  },
  {
   "cell_type": "markdown",
   "id": "31abf90a",
   "metadata": {},
   "source": [
    "Documentation [here](https://huggingface.co/docs/transformers/v4.51.3/en/internal/generation_utils#transformers.generation.GenerateDecoderOnlyOutput)\n",
    "\n",
    "**Notes**\n",
    "Scores are equal to logits in case of greedy decoding, but are different in case of more fancy decoding methods like `beam`, or `top_k`. See the \n",
    "doc page [Generation Strategies](https://huggingface.co/docs/transformers/en/generation_strategies#decoding-strategies). See [here](https://discuss.huggingface.co/t/what-is-the-difference-between-logits-and-scores/79796/3) for forum discussion.\n",
    "\n",
    "\n",
    "\n",
    "logits (tuple(torch.FloatTensor) optional, returned when output_logits=True) — Unprocessed prediction scores of the language modeling head (scores for each vocabulary token before SoftMax) at each generation step. Tuple of torch.FloatTensor with up to max_new_tokens elements (one element for each generated token), with each tensor of shape (batch_size, config.vocab_size).\n",
    "\n",
    "attentions (tuple(tuple(torch.FloatTensor)), optional, returned when output_attentions=True) — Tuple (one element for each generated token) of tuples (one element for each layer of the decoder) of torch.FloatTensor of shape (batch_size, num_heads, generated_length, sequence_length).\n",
    "\n",
    "hidden_states (tuple(tuple(torch.FloatTensor)), optional, returned when output_hidden_states=True) — Tuple (one element for each generated token) of tuples (one element for each layer of the decoder) of torch.FloatTensor of shape (batch_size, generated_length, hidden_size)."
   ]
  },
  {
   "cell_type": "markdown",
   "id": "e44990f2",
   "metadata": {},
   "source": [
    "### Logits"
   ]
  },
  {
   "cell_type": "code",
   "execution_count": 2,
   "id": "6b2fcb7d",
   "metadata": {},
   "outputs": [
    {
     "name": "stdout",
     "output_type": "stream",
     "text": [
      "torch.Size([1, 6])\n",
      "Today\n",
      "Today we can go to the\n"
     ]
    }
   ],
   "source": [
    "print(outputs.sequences.shape)\n",
    "print(tokenizer.decode(outputs.sequences[0][0], skip_special_tokens =False))\n",
    "print(tokenizer.decode(outputs.sequences[0][:], skip_special_tokens =False))"
   ]
  },
  {
   "cell_type": "code",
   "execution_count": 3,
   "id": "8676c004",
   "metadata": {},
   "outputs": [
    {
     "name": "stdout",
     "output_type": "stream",
     "text": [
      "Index: 262, Value: -80.64991760253906, Decoded:  the\n",
      "Index: 257, Value: -81.82210540771484, Decoded:  a\n",
      "Index: 670, Value: -82.49638366699219, Decoded:  work\n",
      "Index: 1175, Value: -82.70538330078125, Decoded:  war\n",
      "Index: 597, Value: -82.73980712890625, Decoded:  any\n",
      "Index: 3993, Value: -82.82905578613281, Decoded:  sleep\n",
      "Index: 674, Value: -83.12396240234375, Decoded:  our\n",
      "Index: 1194, Value: -83.35417175292969, Decoded:  another\n",
      "Index: 3996, Value: -83.4070816040039, Decoded:  bed\n",
      "Index: 477, Value: -83.7303237915039, Decoded:  all\n"
     ]
    }
   ],
   "source": [
    "logits = outputs.scores[0][0]\n",
    "top_values, top_indices = torch.topk(logits, k=10, largest=True)  # or largest=False for smallest\n",
    "for idx, val in zip(top_indices.tolist(), top_values.tolist()):\n",
    "    print(f\"Index: {idx}, Value: {val}, Decoded: {tokenizer.decode(idx)}\")"
   ]
  },
  {
   "cell_type": "markdown",
   "id": "a3c2c168",
   "metadata": {},
   "source": [
    "### Hidden states at the end of each layer\n",
    "\n",
    "We can follow the buffer as it exits each of the layers. Hidden-states of the model at the output of each layer plus the optional initial embedding outputs. In this case, $1 + 12 = 13$."
   ]
  },
  {
   "cell_type": "code",
   "execution_count": 91,
   "id": "abdef005",
   "metadata": {},
   "outputs": [
    {
     "name": "stdout",
     "output_type": "stream",
     "text": [
      "13\n"
     ]
    }
   ],
   "source": [
    "print(len(outputs.hidden_states[0]))"
   ]
  },
  {
   "cell_type": "code",
   "execution_count": null,
   "id": "e7ee5094",
   "metadata": {},
   "outputs": [
    {
     "name": "stdout",
     "output_type": "stream",
     "text": [
      "torch.Size([5, 768])\n"
     ]
    }
   ],
   "source": [
    "print(outputs.hidden_states[0][0][0].shape) # hidden_states[generated token number][layer number] is a tensor (input length x D)"
   ]
  },
  {
   "cell_type": "markdown",
   "id": "4b3447c7",
   "metadata": {},
   "source": [
    "# Accessing model parameters\n",
    "\n",
    "Now we retrieve the set of model parameters that are all learned during the training, and kept fixed during inference. These includes:\n",
    "\n",
    "- the embedding map, E\n",
    "- the attention matrices, in each layer and each head $(W_Q, W_K, W_V)$ \n",
    "- the neural net weights, in each layer\n",
    "\n",
    "\n",
    "When instanciating the model using \"from_pretrained()\", dropout is deactivated by default by  model.eval() (sets the model to evaluation mode). To train the model, you should first set it back in training mode with model.train()."
   ]
  },
  {
   "cell_type": "code",
   "execution_count": 92,
   "id": "3dd4d6dd",
   "metadata": {},
   "outputs": [
    {
     "data": {
      "text/plain": [
       "GPT2LMHeadModel(\n",
       "  (transformer): GPT2Model(\n",
       "    (wte): Embedding(50257, 768)\n",
       "    (wpe): Embedding(1024, 768)\n",
       "    (drop): Dropout(p=0.1, inplace=False)\n",
       "    (h): ModuleList(\n",
       "      (0-11): 12 x GPT2Block(\n",
       "        (ln_1): LayerNorm((768,), eps=1e-05, elementwise_affine=True)\n",
       "        (attn): GPT2Attention(\n",
       "          (c_attn): Conv1D(nf=2304, nx=768)\n",
       "          (c_proj): Conv1D(nf=768, nx=768)\n",
       "          (attn_dropout): Dropout(p=0.1, inplace=False)\n",
       "          (resid_dropout): Dropout(p=0.1, inplace=False)\n",
       "        )\n",
       "        (ln_2): LayerNorm((768,), eps=1e-05, elementwise_affine=True)\n",
       "        (mlp): GPT2MLP(\n",
       "          (c_fc): Conv1D(nf=3072, nx=768)\n",
       "          (c_proj): Conv1D(nf=768, nx=3072)\n",
       "          (act): NewGELUActivation()\n",
       "          (dropout): Dropout(p=0.1, inplace=False)\n",
       "        )\n",
       "      )\n",
       "    )\n",
       "    (ln_f): LayerNorm((768,), eps=1e-05, elementwise_affine=True)\n",
       "  )\n",
       "  (lm_head): Linear(in_features=768, out_features=50257, bias=False)\n",
       ")"
      ]
     },
     "execution_count": 92,
     "metadata": {},
     "output_type": "execute_result"
    }
   ],
   "source": [
    "model"
   ]
  },
  {
   "cell_type": "code",
   "execution_count": 99,
   "id": "29dba7b2",
   "metadata": {},
   "outputs": [],
   "source": [
    "# dir(model) # check all methods and attributes of the class"
   ]
  },
  {
   "cell_type": "code",
   "execution_count": 3,
   "id": "fed7901e",
   "metadata": {},
   "outputs": [
    {
     "name": "stdout",
     "output_type": "stream",
     "text": [
      "transformer.wte.weight torch.Size([50257, 768])\n",
      "transformer.wpe.weight torch.Size([1024, 768])\n",
      "transformer.h.0.ln_1.weight torch.Size([768])\n",
      "transformer.h.0.ln_1.bias torch.Size([768])\n",
      "transformer.h.0.attn.c_attn.weight torch.Size([768, 2304])\n",
      "transformer.h.0.attn.c_attn.bias torch.Size([2304])\n",
      "transformer.h.0.attn.c_proj.weight torch.Size([768, 768])\n",
      "transformer.h.0.attn.c_proj.bias torch.Size([768])\n",
      "transformer.h.0.ln_2.weight torch.Size([768])\n",
      "transformer.h.0.ln_2.bias torch.Size([768])\n",
      "transformer.h.0.mlp.c_fc.weight torch.Size([768, 3072])\n",
      "transformer.h.0.mlp.c_fc.bias torch.Size([3072])\n",
      "transformer.h.0.mlp.c_proj.weight torch.Size([3072, 768])\n",
      "transformer.h.0.mlp.c_proj.bias torch.Size([768])\n",
      "transformer.h.1.ln_1.weight torch.Size([768])\n",
      "transformer.h.1.ln_1.bias torch.Size([768])\n",
      "transformer.h.1.attn.c_attn.weight torch.Size([768, 2304])\n",
      "transformer.h.1.attn.c_attn.bias torch.Size([2304])\n",
      "transformer.h.1.attn.c_proj.weight torch.Size([768, 768])\n",
      "transformer.h.1.attn.c_proj.bias torch.Size([768])\n",
      "transformer.h.1.ln_2.weight torch.Size([768])\n",
      "transformer.h.1.ln_2.bias torch.Size([768])\n",
      "transformer.h.1.mlp.c_fc.weight torch.Size([768, 3072])\n",
      "transformer.h.1.mlp.c_fc.bias torch.Size([3072])\n",
      "transformer.h.1.mlp.c_proj.weight torch.Size([3072, 768])\n",
      "transformer.h.1.mlp.c_proj.bias torch.Size([768])\n",
      "transformer.h.2.ln_1.weight torch.Size([768])\n",
      "transformer.h.2.ln_1.bias torch.Size([768])\n",
      "transformer.h.2.attn.c_attn.weight torch.Size([768, 2304])\n",
      "transformer.h.2.attn.c_attn.bias torch.Size([2304])\n",
      "transformer.h.2.attn.c_proj.weight torch.Size([768, 768])\n",
      "transformer.h.2.attn.c_proj.bias torch.Size([768])\n",
      "transformer.h.2.ln_2.weight torch.Size([768])\n",
      "transformer.h.2.ln_2.bias torch.Size([768])\n",
      "transformer.h.2.mlp.c_fc.weight torch.Size([768, 3072])\n",
      "transformer.h.2.mlp.c_fc.bias torch.Size([3072])\n",
      "transformer.h.2.mlp.c_proj.weight torch.Size([3072, 768])\n",
      "transformer.h.2.mlp.c_proj.bias torch.Size([768])\n",
      "transformer.h.3.ln_1.weight torch.Size([768])\n",
      "transformer.h.3.ln_1.bias torch.Size([768])\n",
      "transformer.h.3.attn.c_attn.weight torch.Size([768, 2304])\n",
      "transformer.h.3.attn.c_attn.bias torch.Size([2304])\n",
      "transformer.h.3.attn.c_proj.weight torch.Size([768, 768])\n",
      "transformer.h.3.attn.c_proj.bias torch.Size([768])\n",
      "transformer.h.3.ln_2.weight torch.Size([768])\n",
      "transformer.h.3.ln_2.bias torch.Size([768])\n",
      "transformer.h.3.mlp.c_fc.weight torch.Size([768, 3072])\n",
      "transformer.h.3.mlp.c_fc.bias torch.Size([3072])\n",
      "transformer.h.3.mlp.c_proj.weight torch.Size([3072, 768])\n",
      "transformer.h.3.mlp.c_proj.bias torch.Size([768])\n",
      "transformer.h.4.ln_1.weight torch.Size([768])\n",
      "transformer.h.4.ln_1.bias torch.Size([768])\n",
      "transformer.h.4.attn.c_attn.weight torch.Size([768, 2304])\n",
      "transformer.h.4.attn.c_attn.bias torch.Size([2304])\n",
      "transformer.h.4.attn.c_proj.weight torch.Size([768, 768])\n",
      "transformer.h.4.attn.c_proj.bias torch.Size([768])\n",
      "transformer.h.4.ln_2.weight torch.Size([768])\n",
      "transformer.h.4.ln_2.bias torch.Size([768])\n",
      "transformer.h.4.mlp.c_fc.weight torch.Size([768, 3072])\n",
      "transformer.h.4.mlp.c_fc.bias torch.Size([3072])\n",
      "transformer.h.4.mlp.c_proj.weight torch.Size([3072, 768])\n",
      "transformer.h.4.mlp.c_proj.bias torch.Size([768])\n",
      "transformer.h.5.ln_1.weight torch.Size([768])\n",
      "transformer.h.5.ln_1.bias torch.Size([768])\n",
      "transformer.h.5.attn.c_attn.weight torch.Size([768, 2304])\n",
      "transformer.h.5.attn.c_attn.bias torch.Size([2304])\n",
      "transformer.h.5.attn.c_proj.weight torch.Size([768, 768])\n",
      "transformer.h.5.attn.c_proj.bias torch.Size([768])\n",
      "transformer.h.5.ln_2.weight torch.Size([768])\n",
      "transformer.h.5.ln_2.bias torch.Size([768])\n",
      "transformer.h.5.mlp.c_fc.weight torch.Size([768, 3072])\n",
      "transformer.h.5.mlp.c_fc.bias torch.Size([3072])\n",
      "transformer.h.5.mlp.c_proj.weight torch.Size([3072, 768])\n",
      "transformer.h.5.mlp.c_proj.bias torch.Size([768])\n",
      "transformer.h.6.ln_1.weight torch.Size([768])\n",
      "transformer.h.6.ln_1.bias torch.Size([768])\n",
      "transformer.h.6.attn.c_attn.weight torch.Size([768, 2304])\n",
      "transformer.h.6.attn.c_attn.bias torch.Size([2304])\n",
      "transformer.h.6.attn.c_proj.weight torch.Size([768, 768])\n",
      "transformer.h.6.attn.c_proj.bias torch.Size([768])\n",
      "transformer.h.6.ln_2.weight torch.Size([768])\n",
      "transformer.h.6.ln_2.bias torch.Size([768])\n",
      "transformer.h.6.mlp.c_fc.weight torch.Size([768, 3072])\n",
      "transformer.h.6.mlp.c_fc.bias torch.Size([3072])\n",
      "transformer.h.6.mlp.c_proj.weight torch.Size([3072, 768])\n",
      "transformer.h.6.mlp.c_proj.bias torch.Size([768])\n",
      "transformer.h.7.ln_1.weight torch.Size([768])\n",
      "transformer.h.7.ln_1.bias torch.Size([768])\n",
      "transformer.h.7.attn.c_attn.weight torch.Size([768, 2304])\n",
      "transformer.h.7.attn.c_attn.bias torch.Size([2304])\n",
      "transformer.h.7.attn.c_proj.weight torch.Size([768, 768])\n",
      "transformer.h.7.attn.c_proj.bias torch.Size([768])\n",
      "transformer.h.7.ln_2.weight torch.Size([768])\n",
      "transformer.h.7.ln_2.bias torch.Size([768])\n",
      "transformer.h.7.mlp.c_fc.weight torch.Size([768, 3072])\n",
      "transformer.h.7.mlp.c_fc.bias torch.Size([3072])\n",
      "transformer.h.7.mlp.c_proj.weight torch.Size([3072, 768])\n",
      "transformer.h.7.mlp.c_proj.bias torch.Size([768])\n",
      "transformer.h.8.ln_1.weight torch.Size([768])\n",
      "transformer.h.8.ln_1.bias torch.Size([768])\n",
      "transformer.h.8.attn.c_attn.weight torch.Size([768, 2304])\n",
      "transformer.h.8.attn.c_attn.bias torch.Size([2304])\n",
      "transformer.h.8.attn.c_proj.weight torch.Size([768, 768])\n",
      "transformer.h.8.attn.c_proj.bias torch.Size([768])\n",
      "transformer.h.8.ln_2.weight torch.Size([768])\n",
      "transformer.h.8.ln_2.bias torch.Size([768])\n",
      "transformer.h.8.mlp.c_fc.weight torch.Size([768, 3072])\n",
      "transformer.h.8.mlp.c_fc.bias torch.Size([3072])\n",
      "transformer.h.8.mlp.c_proj.weight torch.Size([3072, 768])\n",
      "transformer.h.8.mlp.c_proj.bias torch.Size([768])\n",
      "transformer.h.9.ln_1.weight torch.Size([768])\n",
      "transformer.h.9.ln_1.bias torch.Size([768])\n",
      "transformer.h.9.attn.c_attn.weight torch.Size([768, 2304])\n",
      "transformer.h.9.attn.c_attn.bias torch.Size([2304])\n",
      "transformer.h.9.attn.c_proj.weight torch.Size([768, 768])\n",
      "transformer.h.9.attn.c_proj.bias torch.Size([768])\n",
      "transformer.h.9.ln_2.weight torch.Size([768])\n",
      "transformer.h.9.ln_2.bias torch.Size([768])\n",
      "transformer.h.9.mlp.c_fc.weight torch.Size([768, 3072])\n",
      "transformer.h.9.mlp.c_fc.bias torch.Size([3072])\n",
      "transformer.h.9.mlp.c_proj.weight torch.Size([3072, 768])\n",
      "transformer.h.9.mlp.c_proj.bias torch.Size([768])\n",
      "transformer.h.10.ln_1.weight torch.Size([768])\n",
      "transformer.h.10.ln_1.bias torch.Size([768])\n",
      "transformer.h.10.attn.c_attn.weight torch.Size([768, 2304])\n",
      "transformer.h.10.attn.c_attn.bias torch.Size([2304])\n",
      "transformer.h.10.attn.c_proj.weight torch.Size([768, 768])\n",
      "transformer.h.10.attn.c_proj.bias torch.Size([768])\n",
      "transformer.h.10.ln_2.weight torch.Size([768])\n",
      "transformer.h.10.ln_2.bias torch.Size([768])\n",
      "transformer.h.10.mlp.c_fc.weight torch.Size([768, 3072])\n",
      "transformer.h.10.mlp.c_fc.bias torch.Size([3072])\n",
      "transformer.h.10.mlp.c_proj.weight torch.Size([3072, 768])\n",
      "transformer.h.10.mlp.c_proj.bias torch.Size([768])\n",
      "transformer.h.11.ln_1.weight torch.Size([768])\n",
      "transformer.h.11.ln_1.bias torch.Size([768])\n",
      "transformer.h.11.attn.c_attn.weight torch.Size([768, 2304])\n",
      "transformer.h.11.attn.c_attn.bias torch.Size([2304])\n",
      "transformer.h.11.attn.c_proj.weight torch.Size([768, 768])\n",
      "transformer.h.11.attn.c_proj.bias torch.Size([768])\n",
      "transformer.h.11.ln_2.weight torch.Size([768])\n",
      "transformer.h.11.ln_2.bias torch.Size([768])\n",
      "transformer.h.11.mlp.c_fc.weight torch.Size([768, 3072])\n",
      "transformer.h.11.mlp.c_fc.bias torch.Size([3072])\n",
      "transformer.h.11.mlp.c_proj.weight torch.Size([3072, 768])\n",
      "transformer.h.11.mlp.c_proj.bias torch.Size([768])\n",
      "transformer.ln_f.weight torch.Size([768])\n",
      "transformer.ln_f.bias torch.Size([768])\n",
      "lm_head.weight torch.Size([50257, 768])\n"
     ]
    }
   ],
   "source": [
    "state_dict = model.state_dict()\n",
    "for name, weights in state_dict.items():\n",
    "    print(name, weights.shape)"
   ]
  },
  {
   "cell_type": "code",
   "execution_count": 4,
   "id": "cc88266b",
   "metadata": {},
   "outputs": [
    {
     "data": {
      "text/plain": [
       "True"
      ]
     },
     "execution_count": 4,
     "metadata": {},
     "output_type": "execute_result"
    }
   ],
   "source": [
    "embedding_matrix = state_dict[\"transformer.wte.weight\"] # E\n",
    "lm_head_matrix = state_dict[\"lm_head.weight\"]\n",
    "torch.equal(embedding_matrix, lm_head_matrix) # True"
   ]
  },
  {
   "cell_type": "markdown",
   "id": "b11d5022",
   "metadata": {},
   "source": [
    "**SOURCE CODE** [HERE](https://github.com/huggingface/transformers/blob/main/src/transformers/models/gpt2/modeling_gpt2.py)"
   ]
  },
  {
   "cell_type": "markdown",
   "id": "6268ecdc",
   "metadata": {},
   "source": [
    "### Attention matrices\n",
    "\n",
    "\n",
    "1 - Transformation to queries, keys, values. Matrices are stacked together horizontally (column- wise). This way, only 1 matrix multiplication is required instead of 3.\n",
    "$$\n",
    "\\begin{align}\n",
    "    [Q, K, V] &= X \\cdot [W_Q, W_K, W_V] + \n",
    "    \\begin{pmatrix}\n",
    "        \\text{bias QKV} \\\\\n",
    "        \\cdots \\\\\n",
    "        \\text{bias QKV}\n",
    "    \\end{pmatrix} \\\\\n",
    "    (N \\cdot 3D) &= (N \\cdot D) \\cdot (D \\cdot 3D) + (N \\cdot 3D)\n",
    "\\end{align}\n",
    "$$\n",
    "2 - Splitting into heads:\n",
    "\n",
    "$ \\begin{align}\n",
    "    Q &\\rightarrow [Q_1, \\cdots, Q_{n_H}] \\\\\n",
    "    (N \\cdot D) &=  \\text{list of}\\,\\, (N \\cdot d_K)  \\\\\n",
    "\\end{align}\n",
    "$\n",
    "\n",
    "3 - Attention computation:\n",
    "$ \\begin{align}\n",
    "    \\text{head h} &= \\text{softmax}\\left( \\frac{Q_h\\cdot K_h^T}{\\sqrt{d_K} } \\right) [Q_1, \\cdots, Q_{n_H}] \\\\\n",
    "    (N \\cdot D) &=  \\text{list of}\\,\\, (N \\cdot d_K)  \n",
    "\\end{align}\n",
    "$\n",
    "\n",
    "4 - Backwards projection\n",
    "\n",
    "$\n",
    "\\begin{align}\n",
    "Y &= [\\text{head 1},\\, \\text{head 2} \\cdots \\text{head nH}] \\cdot W_0 + \n",
    "    \\begin{pmatrix}\n",
    "        \\text{bias 0 } \\\\\n",
    "        \\cdots \\\\\n",
    "        \\text{bias 0}\n",
    "    \\end{pmatrix} \\\\\n",
    "    (N\\cdot D) &= (N \\cdot D) \\cdot (D\\cdot D) + (N \\cdot D) \\\\\n",
    "\\end{align}\n",
    "$"
   ]
  },
  {
   "cell_type": "code",
   "execution_count": 5,
   "id": "a0fae560",
   "metadata": {},
   "outputs": [
    {
     "name": "stdout",
     "output_type": "stream",
     "text": [
      "(768, 2304)\n",
      "(2304,)\n",
      "(768, 768)\n",
      "(768,)\n"
     ]
    }
   ],
   "source": [
    "layer_max = 11\n",
    "qkv_weights = [state_dict[f\"transformer.h.{i}.attn.c_attn.weight\"].cpu().detach().numpy() for i in range(0, layer_max)] # list of N x (3D) matrices\n",
    "qkv_biases = [state_dict[f\"transformer.h.{i}.attn.c_attn.bias\"].cpu().detach().numpy() for i in range(0, layer_max)] # list of D x 1 vectors\n",
    "projection_weights = [state_dict[f\"transformer.h.{i}.attn.c_proj.weight\"].cpu().detach().numpy() for i in range(0, layer_max)] # list of D x D matrices\n",
    "projection_biases = [state_dict[f\"transformer.h.{i}.attn.c_proj.bias\"].cpu().detach().numpy() for i in range(0, layer_max)] # list of D x 1 vectors\n",
    "print(qkv_weights[0].shape)\n",
    "print(qkv_biases[0].shape)\n",
    "print(projection_weights[0].shape)\n",
    "print(projection_biases[0].shape)"
   ]
  },
  {
   "cell_type": "code",
   "execution_count": 6,
   "id": "ca8284a5",
   "metadata": {},
   "outputs": [],
   "source": [
    "D = 768\n",
    "q_weights = [qkv_weights[i][:,0:D] for i in range(0, layer_max)]\n",
    "k_weights = [qkv_weights[i][:,D:(2*D)] for i in range(0, layer_max)]\n",
    "qkt_weights = [np.matmul(q_weights[i], k_weights[i].T) for i in range(0, layer_max)]"
   ]
  },
  {
   "cell_type": "code",
   "execution_count": 20,
   "id": "4f1480aa",
   "metadata": {},
   "outputs": [
    {
     "name": "stderr",
     "output_type": "stream",
     "text": [
      "/var/folders/vk/kftm8379123bsmwrdp8l0xr00000gn/T/ipykernel_725/1112782681.py:31: UserWarning: No artists with labels found to put in legend.  Note that artists whose label start with an underscore are ignored when legend() is called with no argument.\n",
      "  axs[1].legend()\n"
     ]
    },
    {
     "data": {
      "text/plain": [
       "<matplotlib.legend.Legend at 0x166fbec00>"
      ]
     },
     "execution_count": 20,
     "metadata": {},
     "output_type": "execute_result"
    },
    {
     "data": {
      "image/png": "[encoded data removed]",
      "text/plain": [
       "<Figure size 1000x400 with 3 Axes>"
      ]
     },
     "metadata": {},
     "output_type": "display_data"
    }
   ],
   "source": [
    "from numpy.linalg import norm\n",
    "import matplotlib.pyplot as plt\n",
    "\n",
    "# Symmetric?  Distance of QKt - (QKt)t from the null matrix\n",
    "distances_symm = [norm(qkt_weights[i] - qkt_weights[i].T, ord = \"fro\") for i in range(0, layer_max)]\n",
    "# Difference from the identiy matrix ?\n",
    "distances_identity = [norm(qkt_weights[i] - np.eye(D)) for i in range(0, layer_max)]\n",
    "\n",
    "\n",
    "fig, axs = plt.subplots(nrows = 1, ncols = 2, figsize = (10,4))\n",
    "plt.subplots_adjust(hspace = 0.3)\n",
    "axs[0].plot(np.arange(1, layer_max + 1), distances_symm, label = r\"norm of $(M - M^T)$\")\n",
    "axs[0].scatter(np.arange(1, layer_max + 1), distances_symm)\n",
    "axs[0].plot(np.arange(1, layer_max + 1), distances_identity, label = r\"norm of $(M - identity)$\")\n",
    "axs[0].scatter(np.arange(1, layer_max + 1), distances_identity)\n",
    "axs[0].grid()\n",
    "axs[0].set_title(r\"$M = W_Q\\cdot W_K^T$\")\n",
    "axs[0].set_xlabel(\"layer idx\")\n",
    "axs[0].legend()\n",
    "\n",
    "\n",
    "distances_pairwise = [[norm(qkt_weights[i] - qkt_weights[j]) for j in range(0, layer_max)] for i in range(0, layer_max)]\n",
    "\n",
    "\n",
    "im = axs[1].imshow(distances_pairwise)\n",
    "fig.colorbar(im, ax=axs[1])\n",
    "axs[1].grid()\n",
    "axs[1].set_title(\"Pairwise distances\")\n",
    "axs[1].set_xlabel(\"layer idx\")\n",
    "axs[1].set_ylabel(\"layer idx\")\n",
    "axs[1].legend()"
   ]
  }
 ],
 "metadata": {
  "kernelspec": {
   "display_name": "my_venv",
   "language": "python",
   "name": "python3"
  },
  "language_info": {
   "codemirror_mode": {
    "name": "ipython",
    "version": 3
   },
   "file_extension": ".py",
   "mimetype": "text/x-python",
   "name": "python",
   "nbconvert_exporter": "python",
   "pygments_lexer": "ipython3",
   "version": "3.12.0"
  }
 },
 "nbformat": 4,
 "nbformat_minor": 5
}
